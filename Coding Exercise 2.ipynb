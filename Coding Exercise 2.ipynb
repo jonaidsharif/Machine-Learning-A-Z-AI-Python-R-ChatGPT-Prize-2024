# Coding Exercise 2: Handling Missing Data in a Dataset for Machine Learning
# Importing the necessary libraries
import pandas as pd
import matplotlib.pyplot as plt
import numpy as np 

# Load the dataset
df = pd.read_csv("pima-indians-diabetes.csv")

# Identify missing data (assumes that missing data is represented as NaN)
print(df.isnull().sum())

# Print the number of missing entries in each column
X = df.iloc[:, :-1].values
y = df.iloc[:, :-1].values
print(X)
print(y)

# Configure an instance of the SimpleImputer class
from sklearn.impute import SimpleImputer
imputer = SimpleImputer(missing_values=np.nan, strategy='mean')

# Fit the imputer on the DataFrame
imputer.fit(X[:, 1:3])

# Apply the transform to the DataFrame
X[:, 1:3] = imputer.transform(X[:, 1:3])

#Print your updated matrix of features
print(X)
