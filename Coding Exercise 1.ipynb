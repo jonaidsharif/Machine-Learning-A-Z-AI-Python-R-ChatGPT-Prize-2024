# Coding Exercise 1: Importing and Preprocessing a Dataset for Machine Learning
## Import necessary libraries
import pandas as pd
import matplotlib.pyplot as plt
import numpy as np

# Load the Iris dataset
dataset = pd.read_csv('iris.csv')

# Identify the features and the dependent variable
# The features are all columns except the last one
X = dataset.iloc[:, :-1].values  # Independent variables (numpy array)

# The dependent variable (target) is the last column
y = dataset.iloc[:, -1].values   # Dependent variable (numpy array)

# Print X and y to verify
print("Matrix of Features (X):")
print(X)
print("\nDependent Variable Vector (y):")
print(y)
